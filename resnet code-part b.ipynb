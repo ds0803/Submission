{
 "cells": [
  {
   "cell_type": "code",
   "execution_count": 10,
   "id": "9ca1ad8f",
   "metadata": {},
   "outputs": [
    {
     "name": "stdout",
     "output_type": "stream",
     "text": [
      "TensorFlow Version: 2.3.0\n"
     ]
    }
   ],
   "source": [
    "import cv2\n",
    "import numpy as np\n",
    "import pandas as pd\n",
    "import seaborn as sns\n",
    "import tensorflow as tf\n",
    "import matplotlib.pyplot as plt\n",
    "import keras\n",
    "\n",
    "import os\n",
    "from sklearn.model_selection import train_test_split\n",
    "\n",
    "\n",
    "import tensorflow_addons as tfa\n",
    "from keras.utils.vis_utils import plot_model\n",
    "from tensorflow.keras import Sequential, Input\n",
    "from tensorflow.keras.layers import Dense, Dropout\n",
    "from tensorflow.keras.layers import Conv2D, Flatten\n",
    "from tensorflow.keras.preprocessing.image import ImageDataGenerator as IDG\n",
    "from tensorflow.keras.layers import SeparableConv2D, BatchNormalization, MaxPool2D,GlobalAveragePooling2D\n",
    "\n",
    "\n",
    "print(\"TensorFlow Version:\", tf.__version__)"
   ]
  },
  {
   "cell_type": "code",
   "execution_count": 1,
   "id": "ed642345",
   "metadata": {},
   "outputs": [
    {
     "name": "stdout",
     "output_type": "stream",
     "text": [
      "(60000, 32, 32, 3) (60000, 10)\n"
     ]
    }
   ],
   "source": [
    "import tensorflow as tf \n",
    "import numpy as np \n",
    "\n",
    "(x_train, y_train), (_, _) = tf.keras.datasets.mnist.load_data()\n",
    "\n",
    "# expand new axis, channel axis \n",
    "x_train = np.expand_dims(x_train, axis=-1)\n",
    "\n",
    "# [optional]: we may need 3 channel (instead of 1)\n",
    "x_train = np.repeat(x_train, 3, axis=-1)\n",
    "\n",
    "# it's always better to normalize \n",
    "x_train = x_train.astype('float32') / 255\n",
    "\n",
    "# resize the input shape , i.e. old shape: 28, new shape: 32\n",
    "x_train = tf.image.resize(x_train, [32,32]) # if we want to resize \n",
    "\n",
    "# one hot \n",
    "y_train = tf.keras.utils.to_categorical(y_train , num_classes=10)\n",
    "\n",
    "print(x_train.shape, y_train.shape)\n"
   ]
  },
  {
   "cell_type": "code",
   "execution_count": null,
   "id": "222a32a2",
   "metadata": {},
   "outputs": [],
   "source": [
    "train_data, test_data, train_labels, test_labels = train_test_split(x_train,y_train, test_size = 0.2, random_state=42)\n",
    "train_data, val_data, train_labels, val_labels = train_test_split(x_train,y_train, test_size = 0.2, random_state=42)"
   ]
  },
  {
   "cell_type": "code",
   "execution_count": 3,
   "id": "6a046912",
   "metadata": {},
   "outputs": [
    {
     "name": "stdout",
     "output_type": "stream",
     "text": [
      "Downloading data from https://storage.googleapis.com/tensorflow/keras-applications/resnet/resnet50_weights_tf_dim_ordering_tf_kernels_notop.h5\n",
      "94773248/94765736 [==============================] - 171s 2us/step\n"
     ]
    }
   ],
   "source": [
    "input = tf.keras.Input(shape=(32,32,3))\n",
    "efnet = tf.keras.applications.ResNet50(weights='imagenet',\n",
    "                                             include_top = False, \n",
    "                                             input_tensor = input)\n",
    "# Now that we apply global max pooling.\n",
    "gap = tf.keras.layers.GlobalMaxPooling2D()(efnet.output)\n",
    "\n",
    "# Finally, we add a classification layer.\n",
    "output = tf.keras.layers.Dense(10, activation='softmax', use_bias=True)(gap)\n",
    "\n",
    "# bind all\n",
    "func_model = tf.keras.Model(efnet.input, output)\n"
   ]
  },
  {
   "cell_type": "code",
   "execution_count": 8,
   "id": "ac35278c",
   "metadata": {},
   "outputs": [
    {
     "name": "stdout",
     "output_type": "stream",
     "text": [
      "Epoch 1/5\n",
      "469/469 - 4038s - loss: 0.1139 - categorical_accuracy: 0.9723\n",
      "Epoch 2/5\n",
      "469/469 - 3626s - loss: 0.0527 - categorical_accuracy: 0.9862\n",
      "Epoch 3/5\n",
      "469/469 - 4345s - loss: 0.0454 - categorical_accuracy: 0.9881\n",
      "Epoch 4/5\n",
      "469/469 - 3859s - loss: 0.0293 - categorical_accuracy: 0.9920\n",
      "Epoch 5/5\n",
      "469/469 - 4264s - loss: 0.0239 - categorical_accuracy: 0.9932\n"
     ]
    },
    {
     "data": {
      "text/plain": [
       "<tensorflow.python.keras.callbacks.History at 0x24002095bb0>"
      ]
     },
     "execution_count": 8,
     "metadata": {},
     "output_type": "execute_result"
    }
   ],
   "source": [
    "func_model.compile(\n",
    "          loss  = tf.keras.losses.CategoricalCrossentropy(),\n",
    "          metrics = tf.keras.metrics.CategoricalAccuracy(),\n",
    "          optimizer = tf.keras.optimizers.Adam())\n",
    "# fit \n",
    "func_model.fit(x_train, y_train, batch_size=128, epochs=5, verbose = 2)\n"
   ]
  }
 ],
 "metadata": {
  "kernelspec": {
   "display_name": "Python 3",
   "language": "python",
   "name": "python3"
  },
  "language_info": {
   "codemirror_mode": {
    "name": "ipython",
    "version": 3
   },
   "file_extension": ".py",
   "mimetype": "text/x-python",
   "name": "python",
   "nbconvert_exporter": "python",
   "pygments_lexer": "ipython3",
   "version": "3.8.8"
  }
 },
 "nbformat": 4,
 "nbformat_minor": 5
}
